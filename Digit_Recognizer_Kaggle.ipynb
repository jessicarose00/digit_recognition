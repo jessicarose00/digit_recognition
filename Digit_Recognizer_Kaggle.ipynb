{
 "cells": [
  {
   "cell_type": "markdown",
   "metadata": {},
   "source": [
    "# Digit Recognition Kaggle Competition\n",
    "\n",
    "The goal of this competition is to use classification methods to correctly identify digits from handwritten images. This notebook originated as an assignment from my Data Science Immersive with General Assembly."
   ]
  },
  {
   "cell_type": "code",
   "execution_count": 95,
   "metadata": {},
   "outputs": [],
   "source": [
    "import numpy as np\n",
    "import pandas as pd\n",
    "import matplotlib.pyplot as plt\n",
    "\n",
    "from sklearn.datasets import make_classification, make_regression\n",
    "from sklearn.preprocessing import StandardScaler\n",
    "from sklearn.model_selection import train_test_split, GridSearchCV\n",
    "from tensorflow.python.keras import utils\n",
    "from tensorflow.keras.models import Sequential\n",
    "from tensorflow.keras.layers import Dense, Dropout, Flatten, Conv2D, MaxPooling2D\n",
    "from tensorflow.keras.utils import to_categorical\n",
    "from sklearn.svm import SVC"
   ]
  },
  {
   "cell_type": "code",
   "execution_count": 96,
   "metadata": {},
   "outputs": [
    {
     "data": {
      "text/html": [
       "<div>\n",
       "<style scoped>\n",
       "    .dataframe tbody tr th:only-of-type {\n",
       "        vertical-align: middle;\n",
       "    }\n",
       "\n",
       "    .dataframe tbody tr th {\n",
       "        vertical-align: top;\n",
       "    }\n",
       "\n",
       "    .dataframe thead th {\n",
       "        text-align: right;\n",
       "    }\n",
       "</style>\n",
       "<table border=\"1\" class=\"dataframe\">\n",
       "  <thead>\n",
       "    <tr style=\"text-align: right;\">\n",
       "      <th></th>\n",
       "      <th>label</th>\n",
       "      <th>pixel0</th>\n",
       "      <th>pixel1</th>\n",
       "      <th>pixel2</th>\n",
       "      <th>pixel3</th>\n",
       "      <th>pixel4</th>\n",
       "      <th>pixel5</th>\n",
       "      <th>pixel6</th>\n",
       "      <th>pixel7</th>\n",
       "      <th>pixel8</th>\n",
       "      <th>...</th>\n",
       "      <th>pixel774</th>\n",
       "      <th>pixel775</th>\n",
       "      <th>pixel776</th>\n",
       "      <th>pixel777</th>\n",
       "      <th>pixel778</th>\n",
       "      <th>pixel779</th>\n",
       "      <th>pixel780</th>\n",
       "      <th>pixel781</th>\n",
       "      <th>pixel782</th>\n",
       "      <th>pixel783</th>\n",
       "    </tr>\n",
       "  </thead>\n",
       "  <tbody>\n",
       "    <tr>\n",
       "      <th>0</th>\n",
       "      <td>1</td>\n",
       "      <td>0</td>\n",
       "      <td>0</td>\n",
       "      <td>0</td>\n",
       "      <td>0</td>\n",
       "      <td>0</td>\n",
       "      <td>0</td>\n",
       "      <td>0</td>\n",
       "      <td>0</td>\n",
       "      <td>0</td>\n",
       "      <td>...</td>\n",
       "      <td>0</td>\n",
       "      <td>0</td>\n",
       "      <td>0</td>\n",
       "      <td>0</td>\n",
       "      <td>0</td>\n",
       "      <td>0</td>\n",
       "      <td>0</td>\n",
       "      <td>0</td>\n",
       "      <td>0</td>\n",
       "      <td>0</td>\n",
       "    </tr>\n",
       "    <tr>\n",
       "      <th>1</th>\n",
       "      <td>0</td>\n",
       "      <td>0</td>\n",
       "      <td>0</td>\n",
       "      <td>0</td>\n",
       "      <td>0</td>\n",
       "      <td>0</td>\n",
       "      <td>0</td>\n",
       "      <td>0</td>\n",
       "      <td>0</td>\n",
       "      <td>0</td>\n",
       "      <td>...</td>\n",
       "      <td>0</td>\n",
       "      <td>0</td>\n",
       "      <td>0</td>\n",
       "      <td>0</td>\n",
       "      <td>0</td>\n",
       "      <td>0</td>\n",
       "      <td>0</td>\n",
       "      <td>0</td>\n",
       "      <td>0</td>\n",
       "      <td>0</td>\n",
       "    </tr>\n",
       "    <tr>\n",
       "      <th>2</th>\n",
       "      <td>1</td>\n",
       "      <td>0</td>\n",
       "      <td>0</td>\n",
       "      <td>0</td>\n",
       "      <td>0</td>\n",
       "      <td>0</td>\n",
       "      <td>0</td>\n",
       "      <td>0</td>\n",
       "      <td>0</td>\n",
       "      <td>0</td>\n",
       "      <td>...</td>\n",
       "      <td>0</td>\n",
       "      <td>0</td>\n",
       "      <td>0</td>\n",
       "      <td>0</td>\n",
       "      <td>0</td>\n",
       "      <td>0</td>\n",
       "      <td>0</td>\n",
       "      <td>0</td>\n",
       "      <td>0</td>\n",
       "      <td>0</td>\n",
       "    </tr>\n",
       "    <tr>\n",
       "      <th>3</th>\n",
       "      <td>4</td>\n",
       "      <td>0</td>\n",
       "      <td>0</td>\n",
       "      <td>0</td>\n",
       "      <td>0</td>\n",
       "      <td>0</td>\n",
       "      <td>0</td>\n",
       "      <td>0</td>\n",
       "      <td>0</td>\n",
       "      <td>0</td>\n",
       "      <td>...</td>\n",
       "      <td>0</td>\n",
       "      <td>0</td>\n",
       "      <td>0</td>\n",
       "      <td>0</td>\n",
       "      <td>0</td>\n",
       "      <td>0</td>\n",
       "      <td>0</td>\n",
       "      <td>0</td>\n",
       "      <td>0</td>\n",
       "      <td>0</td>\n",
       "    </tr>\n",
       "    <tr>\n",
       "      <th>4</th>\n",
       "      <td>0</td>\n",
       "      <td>0</td>\n",
       "      <td>0</td>\n",
       "      <td>0</td>\n",
       "      <td>0</td>\n",
       "      <td>0</td>\n",
       "      <td>0</td>\n",
       "      <td>0</td>\n",
       "      <td>0</td>\n",
       "      <td>0</td>\n",
       "      <td>...</td>\n",
       "      <td>0</td>\n",
       "      <td>0</td>\n",
       "      <td>0</td>\n",
       "      <td>0</td>\n",
       "      <td>0</td>\n",
       "      <td>0</td>\n",
       "      <td>0</td>\n",
       "      <td>0</td>\n",
       "      <td>0</td>\n",
       "      <td>0</td>\n",
       "    </tr>\n",
       "  </tbody>\n",
       "</table>\n",
       "<p>5 rows × 785 columns</p>\n",
       "</div>"
      ],
      "text/plain": [
       "   label  pixel0  pixel1  pixel2  pixel3  pixel4  pixel5  pixel6  pixel7  \\\n",
       "0      1       0       0       0       0       0       0       0       0   \n",
       "1      0       0       0       0       0       0       0       0       0   \n",
       "2      1       0       0       0       0       0       0       0       0   \n",
       "3      4       0       0       0       0       0       0       0       0   \n",
       "4      0       0       0       0       0       0       0       0       0   \n",
       "\n",
       "   pixel8  ...  pixel774  pixel775  pixel776  pixel777  pixel778  pixel779  \\\n",
       "0       0  ...         0         0         0         0         0         0   \n",
       "1       0  ...         0         0         0         0         0         0   \n",
       "2       0  ...         0         0         0         0         0         0   \n",
       "3       0  ...         0         0         0         0         0         0   \n",
       "4       0  ...         0         0         0         0         0         0   \n",
       "\n",
       "   pixel780  pixel781  pixel782  pixel783  \n",
       "0         0         0         0         0  \n",
       "1         0         0         0         0  \n",
       "2         0         0         0         0  \n",
       "3         0         0         0         0  \n",
       "4         0         0         0         0  \n",
       "\n",
       "[5 rows x 785 columns]"
      ]
     },
     "execution_count": 96,
     "metadata": {},
     "output_type": "execute_result"
    }
   ],
   "source": [
    "data = pd.read_csv('train.csv')\n",
    "data.head()"
   ]
  },
  {
   "cell_type": "code",
   "execution_count": 97,
   "metadata": {},
   "outputs": [
    {
     "data": {
      "text/plain": [
       "(42000, 785)"
      ]
     },
     "execution_count": 97,
     "metadata": {},
     "output_type": "execute_result"
    }
   ],
   "source": [
    "data.shape"
   ]
  },
  {
   "cell_type": "code",
   "execution_count": 98,
   "metadata": {},
   "outputs": [],
   "source": [
    "# Define X and y\n",
    "X = data.drop(columns=['label'])\n",
    "y = data['label']\n",
    "\n",
    "# train test split\n",
    "X_train, X_test, y_train, y_test = train_test_split(X, y, random_state=42)"
   ]
  },
  {
   "cell_type": "code",
   "execution_count": 99,
   "metadata": {
    "scrolled": true
   },
   "outputs": [
    {
     "data": {
      "text/plain": [
       "(255, 255)"
      ]
     },
     "execution_count": 99,
     "metadata": {},
     "output_type": "execute_result"
    }
   ],
   "source": [
    "# find the highest value in the datasets\n",
    "X_train.max().max(), X_test.max().max()"
   ]
  },
  {
   "cell_type": "code",
   "execution_count": 100,
   "metadata": {},
   "outputs": [
    {
     "data": {
      "text/plain": [
       "(0, 0)"
      ]
     },
     "execution_count": 100,
     "metadata": {},
     "output_type": "execute_result"
    }
   ],
   "source": [
    "# find the lowest value in the dataset\n",
    "X_train.min().min(), X_test.min().min()"
   ]
  },
  {
   "cell_type": "markdown",
   "metadata": {},
   "source": [
    "# Preprocessing"
   ]
  },
  {
   "cell_type": "markdown",
   "metadata": {},
   "source": [
    "### Scaling\n",
    "To improve computational efficiency, scale the data from 0 to 1."
   ]
  },
  {
   "cell_type": "code",
   "execution_count": 101,
   "metadata": {},
   "outputs": [],
   "source": [
    "# Make sure each value is a float and scale\n",
    "X_train = X_train.astype('float32')\n",
    "X_test = X_test.astype('float32')\n",
    "\n",
    "X_train /= 255\n",
    "X_test /= 255"
   ]
  },
  {
   "cell_type": "code",
   "execution_count": 102,
   "metadata": {},
   "outputs": [],
   "source": [
    "# Change X train and X test to an array\n",
    "X_train = X_train.to_numpy()\n",
    "X_test = X_test.to_numpy()"
   ]
  },
  {
   "cell_type": "code",
   "execution_count": 103,
   "metadata": {},
   "outputs": [
    {
     "data": {
      "text/plain": [
       "(31500, 784)"
      ]
     },
     "execution_count": 103,
     "metadata": {},
     "output_type": "execute_result"
    }
   ],
   "source": [
    "# Check shape of full training data.\n",
    "# this is the number of images by 28**2\n",
    "X_train.shape"
   ]
  },
  {
   "cell_type": "markdown",
   "metadata": {},
   "source": [
    "### Reshape \n",
    "\n",
    "The neural networks require the input data to have 4 dimensions _(batch_size, height, width, depth)_. The depth dimension represents the number of color channels, or how dark the pixel is (in this case 1 for greyscale rather than 3 for an RGB image)."
   ]
  },
  {
   "cell_type": "code",
   "execution_count": 104,
   "metadata": {},
   "outputs": [
    {
     "data": {
      "text/plain": [
       "(31500, 28, 28, 1)"
      ]
     },
     "execution_count": 104,
     "metadata": {},
     "output_type": "execute_result"
    }
   ],
   "source": [
    "# Reshape for neural net 31500 x 28 x 28 x 1.\n",
    "X_train_nn = X_train.reshape(X_train.shape[0], 28, 28, 1)\n",
    "X_test_nn = X_test.reshape(X_test.shape[0], 28, 28, 1)\n",
    "\n",
    "X_train_nn.shape"
   ]
  },
  {
   "cell_type": "markdown",
   "metadata": {},
   "source": [
    "### Encode target variable\n",
    "Since this is a multiclass classification problem, the target variable needs to be categorical or the neural network will try to make predictions based on what is numerically close to the true value."
   ]
  },
  {
   "cell_type": "code",
   "execution_count": 105,
   "metadata": {},
   "outputs": [],
   "source": [
    "# one hot encode the target variables - there are 10 digit categories\n",
    "y_train_nn = utils.to_categorical(y_train, 10)\n",
    "y_test_nn = utils.to_categorical(y_test, 10)"
   ]
  },
  {
   "cell_type": "code",
   "execution_count": 106,
   "metadata": {},
   "outputs": [
    {
     "data": {
      "text/plain": [
       "array([[0., 0., 0., 0., 0., 0., 0., 1., 0., 0.],\n",
       "       [0., 0., 0., 0., 0., 0., 0., 0., 1., 0.],\n",
       "       [0., 0., 0., 0., 0., 1., 0., 0., 0., 0.],\n",
       "       [0., 0., 0., 0., 0., 0., 0., 0., 1., 0.],\n",
       "       [0., 0., 0., 0., 1., 0., 0., 0., 0., 0.],\n",
       "       [1., 0., 0., 0., 0., 0., 0., 0., 0., 0.],\n",
       "       [0., 0., 0., 0., 0., 0., 1., 0., 0., 0.],\n",
       "       [1., 0., 0., 0., 0., 0., 0., 0., 0., 0.],\n",
       "       [0., 1., 0., 0., 0., 0., 0., 0., 0., 0.],\n",
       "       [0., 0., 0., 0., 0., 0., 1., 0., 0., 0.]], dtype=float32)"
      ]
     },
     "execution_count": 106,
     "metadata": {},
     "output_type": "execute_result"
    }
   ],
   "source": [
    "# Check y_train. Now its a one hot encoded array\n",
    "y_train_nn[0:10]"
   ]
  },
  {
   "cell_type": "markdown",
   "metadata": {},
   "source": [
    "# Modeling"
   ]
  },
  {
   "cell_type": "markdown",
   "metadata": {},
   "source": [
    "## Support Vector Machine\n",
    "Test a SVM model, which is a more general form of a support vector classifier that can have non-linear separation between classes. "
   ]
  },
  {
   "cell_type": "code",
   "execution_count": 159,
   "metadata": {},
   "outputs": [],
   "source": [
    "# Gridsearch over different hyperparameters\n",
    "\n",
    "svc_params={\n",
    "    'kernel':['poly','rbf','sigmoid'],\n",
    "    'C':[0.1,1,2],\n",
    "    'gamma':['scale']}\n",
    "\n",
    "# Fit to training data\n",
    "svc_gs=GridSearchCV(SVC(random_state=42),\n",
    "                    param_grid=svc_params,\n",
    "                    cv=3)\n",
    "\n",
    "svc_gs.fit(X_train, y_train)"
   ]
  },
  {
   "cell_type": "code",
   "execution_count": null,
   "metadata": {},
   "outputs": [],
   "source": [
    "# Evaluate model\n",
    "print(f\"Test score: {svc_gs.score(X_train, y_train)}\")\n",
    "print(f\"Test score: {svc_gs.score(X_test, y_test)}\")\n",
    "print(f\"Best params: {svc_gs.best_params_}\")"
   ]
  },
  {
   "cell_type": "markdown",
   "metadata": {},
   "source": [
    "## Keras Sequential Model"
   ]
  },
  {
   "cell_type": "code",
   "execution_count": 142,
   "metadata": {},
   "outputs": [],
   "source": [
    "sq_model = Sequential()"
   ]
  },
  {
   "cell_type": "code",
   "execution_count": 143,
   "metadata": {},
   "outputs": [],
   "source": [
    "# Add a flatten layer before dense layers\n",
    "sq_model.add(Flatten(input_shape=(28,28,1)))\n",
    "\n",
    "# Create the network\n",
    "sq_model.add(Dense(128, activation='relu'))\n",
    "sq_model.add(Dense(64, activation='relu'))\n",
    "sq_model.add(Dense(32, activation='relu'))\n",
    "sq_model.add(Dense(10, activation='softmax'))\n",
    "\n",
    "# Compile model\n",
    "sq_model.compile(loss='categorical_crossentropy',\n",
    "                 optimizer='adam',\n",
    "                 metrics=['accuracy'])"
   ]
  },
  {
   "cell_type": "code",
   "execution_count": 144,
   "metadata": {},
   "outputs": [
    {
     "name": "stdout",
     "output_type": "stream",
     "text": [
      "Train on 31500 samples, validate on 10500 samples\n",
      "Epoch 1/5\n",
      "31500/31500 [==============================] - 7s 234us/sample - loss: 0.5964 - accuracy: 0.8252 - val_loss: 0.2646 - val_accuracy: 0.9249\n",
      "Epoch 2/5\n",
      "31500/31500 [==============================] - 2s 76us/sample - loss: 0.2119 - accuracy: 0.9386 - val_loss: 0.1900 - val_accuracy: 0.9449\n",
      "Epoch 3/5\n",
      "31500/31500 [==============================] - 2s 75us/sample - loss: 0.1563 - accuracy: 0.9546 - val_loss: 0.1688 - val_accuracy: 0.9491\n",
      "Epoch 4/5\n",
      "31500/31500 [==============================] - 3s 87us/sample - loss: 0.1233 - accuracy: 0.9635 - val_loss: 0.1564 - val_accuracy: 0.9565\n",
      "Epoch 5/5\n",
      "31500/31500 [==============================] - 3s 95us/sample - loss: 0.1048 - accuracy: 0.9690 - val_loss: 0.1260 - val_accuracy: 0.9631\n"
     ]
    }
   ],
   "source": [
    "# Fit to training data\n",
    "history_sq = sq_model.fit(X_train_nn,\n",
    "                    y_train_nn, \n",
    "                    batch_size=256, \n",
    "                    validation_data=(X_test_nn, y_test_nn),\n",
    "                    epochs=5,\n",
    "                    verbose=1)"
   ]
  },
  {
   "cell_type": "code",
   "execution_count": 145,
   "metadata": {
    "scrolled": true
   },
   "outputs": [
    {
     "name": "stdout",
     "output_type": "stream",
     "text": [
      "Model: \"sequential_8\"\n",
      "_________________________________________________________________\n",
      "Layer (type)                 Output Shape              Param #   \n",
      "=================================================================\n",
      "flatten_9 (Flatten)          (None, 784)               0         \n",
      "_________________________________________________________________\n",
      "dense_27 (Dense)             (None, 128)               100480    \n",
      "_________________________________________________________________\n",
      "dense_28 (Dense)             (None, 64)                8256      \n",
      "_________________________________________________________________\n",
      "dense_29 (Dense)             (None, 32)                2080      \n",
      "_________________________________________________________________\n",
      "dense_30 (Dense)             (None, 10)                330       \n",
      "=================================================================\n",
      "Total params: 111,146\n",
      "Trainable params: 111,146\n",
      "Non-trainable params: 0\n",
      "_________________________________________________________________\n"
     ]
    }
   ],
   "source": [
    "sq_model.summary()"
   ]
  },
  {
   "cell_type": "markdown",
   "metadata": {},
   "source": [
    "## Keras Convolutional Model"
   ]
  },
  {
   "cell_type": "code",
   "execution_count": 146,
   "metadata": {},
   "outputs": [],
   "source": [
    "# Instantiate a CNN.\n",
    "cnn_model = Sequential()"
   ]
  },
  {
   "cell_type": "code",
   "execution_count": 147,
   "metadata": {},
   "outputs": [],
   "source": [
    "# Create the network\n",
    "\n",
    "# Add convolutional layers.\n",
    "cnn_model.add(Conv2D(filters = 6,           \n",
    "                     kernel_size = (3,3),       \n",
    "                     activation='relu',       \n",
    "                     input_shape=(28,28,1))) \n",
    "\n",
    "cnn_model.add(MaxPooling2D(pool_size=(2,2)))\n",
    "\n",
    "cnn_model.add(Conv2D(filters= 16,\n",
    "                     kernel_size=(3,3),\n",
    "                     activation='relu'))\n",
    "\n",
    "cnn_model.add(MaxPooling2D(pool_size=(2,2)))\n",
    "\n",
    "# Add a flatten layer before dense layers\n",
    "cnn_model.add(Flatten())\n",
    "\n",
    "# Add densely-connected layers\n",
    "cnn_model.add(Dense(128, activation='relu'))\n",
    "cnn_model.add(Dense(10,activation='softmax'))"
   ]
  },
  {
   "cell_type": "code",
   "execution_count": 148,
   "metadata": {},
   "outputs": [],
   "source": [
    "# Compile model\n",
    "cnn_model.compile(loss='categorical_crossentropy',\n",
    "                  optimizer='adam',\n",
    "                  metrics=['accuracy'])"
   ]
  },
  {
   "cell_type": "code",
   "execution_count": 149,
   "metadata": {
    "scrolled": true
   },
   "outputs": [
    {
     "name": "stdout",
     "output_type": "stream",
     "text": [
      "Train on 31500 samples, validate on 10500 samples\n",
      "Epoch 1/5\n",
      "31500/31500 [==============================] - 26s 825us/sample - loss: 0.7140 - accuracy: 0.8130 - val_loss: 0.2455 - val_accuracy: 0.9267\n",
      "Epoch 2/5\n",
      "31500/31500 [==============================] - 22s 693us/sample - loss: 0.1850 - accuracy: 0.9456 - val_loss: 0.1467 - val_accuracy: 0.9579\n",
      "Epoch 3/5\n",
      "31500/31500 [==============================] - 21s 680us/sample - loss: 0.1275 - accuracy: 0.9615 - val_loss: 0.1103 - val_accuracy: 0.9681\n",
      "Epoch 4/5\n",
      "31500/31500 [==============================] - 23s 720us/sample - loss: 0.0949 - accuracy: 0.9709 - val_loss: 0.0922 - val_accuracy: 0.9712\n",
      "Epoch 5/5\n",
      "31500/31500 [==============================] - 22s 696us/sample - loss: 0.0838 - accuracy: 0.9743 - val_loss: 0.0769 - val_accuracy: 0.9770\n"
     ]
    }
   ],
   "source": [
    "# Fit model on training data\n",
    "history_cnn = cnn_model.fit(X_train_nn,\n",
    "                        y_train_nn,\n",
    "                        batch_size=256,\n",
    "                        validation_data=(X_test_nn, y_test_nn),\n",
    "                        epochs=5,\n",
    "                        verbose=1)"
   ]
  },
  {
   "cell_type": "code",
   "execution_count": 150,
   "metadata": {},
   "outputs": [
    {
     "name": "stdout",
     "output_type": "stream",
     "text": [
      "Model: \"sequential_9\"\n",
      "_________________________________________________________________\n",
      "Layer (type)                 Output Shape              Param #   \n",
      "=================================================================\n",
      "conv2d_8 (Conv2D)            (None, 26, 26, 6)         60        \n",
      "_________________________________________________________________\n",
      "max_pooling2d_8 (MaxPooling2 (None, 13, 13, 6)         0         \n",
      "_________________________________________________________________\n",
      "conv2d_9 (Conv2D)            (None, 11, 11, 16)        880       \n",
      "_________________________________________________________________\n",
      "max_pooling2d_9 (MaxPooling2 (None, 5, 5, 16)          0         \n",
      "_________________________________________________________________\n",
      "flatten_10 (Flatten)         (None, 400)               0         \n",
      "_________________________________________________________________\n",
      "dense_31 (Dense)             (None, 128)               51328     \n",
      "_________________________________________________________________\n",
      "dense_32 (Dense)             (None, 10)                1290      \n",
      "=================================================================\n",
      "Total params: 53,558\n",
      "Trainable params: 53,558\n",
      "Non-trainable params: 0\n",
      "_________________________________________________________________\n"
     ]
    }
   ],
   "source": [
    "# Check out the model summary.\n",
    "cnn_model.summary()"
   ]
  },
  {
   "cell_type": "markdown",
   "metadata": {},
   "source": [
    "## Dropout Regularization\n",
    "\n",
    "The first iteration was quite underfit, so I decreased the batch size and increased the number of epochs."
   ]
  },
  {
   "cell_type": "code",
   "execution_count": 151,
   "metadata": {},
   "outputs": [],
   "source": [
    "# Instantiate a CNN.\n",
    "cnn_model_2 = Sequential()\n",
    "\n",
    "# Add convolutional layers.\n",
    "cnn_model_2.add(Conv2D(filters=6,       \n",
    "                       kernel_size = (3,3),  \n",
    "                       activation = 'relu',  \n",
    "                       input_shape = (28,28,1))) \n",
    "\n",
    "\n",
    "cnn_model_2.add(MaxPooling2D(pool_size = (2,2))) \n",
    "\n",
    "\n",
    "cnn_model_2.add(Conv2D(filters=64,\n",
    "                       kernel_size = (3,3),\n",
    "                       activation = 'relu'))\n",
    "\n",
    "cnn_model_2.add(MaxPooling2D(pool_size = (2,2)))\n",
    "\n",
    "# Flatten\n",
    "cnn_model_2.add(Flatten())\n",
    "\n",
    "# Add Dropout\n",
    "cnn_model_2.add(Dense(64, activation='relu'))\n",
    "cnn_model_2.add(Dropout(0.5))\n",
    "cnn_model_2.add(Dense(32, activation='relu'))\n",
    "cnn_model_2.add(Dropout(0.5))\n",
    "cnn_model_2.add(Dense(10, activation='softmax'))\n",
    "\n",
    "# Compile model\n",
    "cnn_model_2.compile(loss='categorical_crossentropy',\n",
    "                    optimizer='adam',\n",
    "                    metrics=['accuracy'])"
   ]
  },
  {
   "cell_type": "code",
   "execution_count": 152,
   "metadata": {},
   "outputs": [
    {
     "name": "stdout",
     "output_type": "stream",
     "text": [
      "Train on 31500 samples, validate on 10500 samples\n",
      "Epoch 1/7\n",
      "31500/31500 [==============================] - 30s 939us/sample - loss: 1.4530 - accuracy: 0.4907 - val_loss: 0.3369 - val_accuracy: 0.9320\n",
      "Epoch 2/7\n",
      "31500/31500 [==============================] - 28s 889us/sample - loss: 0.6992 - accuracy: 0.7713 - val_loss: 0.1789 - val_accuracy: 0.9563\n",
      "Epoch 3/7\n",
      "31500/31500 [==============================] - 28s 879us/sample - loss: 0.4966 - accuracy: 0.8416 - val_loss: 0.1334 - val_accuracy: 0.9642\n",
      "Epoch 4/7\n",
      "31500/31500 [==============================] - 26s 810us/sample - loss: 0.4203 - accuracy: 0.8655 - val_loss: 0.1165 - val_accuracy: 0.9686\n",
      "Epoch 5/7\n",
      "31500/31500 [==============================] - 25s 799us/sample - loss: 0.3808 - accuracy: 0.8786 - val_loss: 0.0975 - val_accuracy: 0.9747\n",
      "Epoch 6/7\n",
      "31500/31500 [==============================] - 26s 824us/sample - loss: 0.3430 - accuracy: 0.8893 - val_loss: 0.0921 - val_accuracy: 0.9752\n",
      "Epoch 7/7\n",
      "31500/31500 [==============================] - 26s 827us/sample - loss: 0.3210 - accuracy: 0.8983 - val_loss: 0.0755 - val_accuracy: 0.9805\n"
     ]
    }
   ],
   "source": [
    "# Fit model on training data\n",
    "history_cnn2 = cnn_model_2.fit(X_train_nn,\n",
    "                          y_train_nn,\n",
    "                          batch_size = 206,\n",
    "                          validation_data = (X_test_nn, y_test_nn),\n",
    "                          epochs=7,\n",
    "                          verbose=1)"
   ]
  },
  {
   "cell_type": "code",
   "execution_count": 153,
   "metadata": {},
   "outputs": [],
   "source": [
    "# Instantiate\n",
    "sq_model_2 = Sequential()\n",
    "\n",
    "# Add a flatten layer before dense layers\n",
    "sq_model_2.add(Flatten(input_shape=(28,28,1)))\n",
    "\n",
    "# Add Dropout\n",
    "sq_model_2.add(Dense(128, activation='relu'))\n",
    "sq_model_2.add(Dropout(0.5))\n",
    "sq_model_2.add(Dense(64, activation='relu'))\n",
    "sq_model_2.add(Dropout(0.5))\n",
    "sq_model_2.add(Dense(32, activation='relu'))\n",
    "sq_model_2.add(Dropout(0.5))\n",
    "sq_model_2.add(Dense(10, activation='softmax'))\n",
    "\n",
    "# Compile model\n",
    "sq_model_2.compile(loss='categorical_crossentropy',\n",
    "                    optimizer='adam',\n",
    "                    metrics=['accuracy'])"
   ]
  },
  {
   "cell_type": "code",
   "execution_count": 154,
   "metadata": {},
   "outputs": [
    {
     "name": "stdout",
     "output_type": "stream",
     "text": [
      "Train on 31500 samples, validate on 10500 samples\n",
      "Epoch 1/10\n",
      "31500/31500 [==============================] - 8s 241us/sample - loss: 1.5561 - accuracy: 0.4499 - val_loss: 0.5529 - val_accuracy: 0.8638\n",
      "Epoch 2/10\n",
      "31500/31500 [==============================] - 4s 137us/sample - loss: 0.7999 - accuracy: 0.7453 - val_loss: 0.3357 - val_accuracy: 0.9135\n",
      "Epoch 3/10\n",
      "31500/31500 [==============================] - 5s 161us/sample - loss: 0.6219 - accuracy: 0.8176 - val_loss: 0.2664 - val_accuracy: 0.9281\n",
      "Epoch 4/10\n",
      "31500/31500 [==============================] - 5s 144us/sample - loss: 0.5266 - accuracy: 0.8535 - val_loss: 0.2339 - val_accuracy: 0.9372\n",
      "Epoch 5/10\n",
      "31500/31500 [==============================] - 4s 116us/sample - loss: 0.4647 - accuracy: 0.8723 - val_loss: 0.2075 - val_accuracy: 0.9447\n",
      "Epoch 6/10\n",
      "31500/31500 [==============================] - 4s 115us/sample - loss: 0.4309 - accuracy: 0.8819 - val_loss: 0.1972 - val_accuracy: 0.9489\n",
      "Epoch 7/10\n",
      "31500/31500 [==============================] - 4s 125us/sample - loss: 0.4065 - accuracy: 0.8917 - val_loss: 0.1839 - val_accuracy: 0.9504\n",
      "Epoch 8/10\n",
      "31500/31500 [==============================] - 4s 117us/sample - loss: 0.3814 - accuracy: 0.8987 - val_loss: 0.1798 - val_accuracy: 0.9559\n",
      "Epoch 9/10\n",
      "31500/31500 [==============================] - 5s 147us/sample - loss: 0.3633 - accuracy: 0.9041 - val_loss: 0.1708 - val_accuracy: 0.9569\n",
      "Epoch 10/10\n",
      "31500/31500 [==============================] - 5s 144us/sample - loss: 0.3413 - accuracy: 0.9101 - val_loss: 0.1670 - val_accuracy: 0.9587\n"
     ]
    }
   ],
   "source": [
    "# Fit to training data\n",
    "history_sq2 = sq_model_2.fit(X_train_nn,\n",
    "                            y_train_nn, \n",
    "                            batch_size=126, \n",
    "                            validation_data=(X_test_nn, y_test_nn),\n",
    "                            epochs=10,\n",
    "                            verbose=1)"
   ]
  },
  {
   "cell_type": "markdown",
   "metadata": {},
   "source": [
    "### Visualize Results"
   ]
  },
  {
   "cell_type": "code",
   "execution_count": 155,
   "metadata": {},
   "outputs": [],
   "source": [
    "# synthesize in function\n",
    "def plot_losses(history, model, color1, color2):\n",
    "    train_loss = history.history['loss']\n",
    "    test_loss = history.history['val_loss']\n",
    "    plt.plot(train_loss, label=f\"Training Loss {model}\", color=color1)\n",
    "    plt.plot(test_loss, label=f\"Test Loss {model}\", color=color2)"
   ]
  },
  {
   "cell_type": "code",
   "execution_count": 158,
   "metadata": {},
   "outputs": [
    {
     "data": {
      "image/png": "[encoded data removed]",
      "text/plain": [
       "<Figure size 864x576 with 1 Axes>"
      ]
     },
     "metadata": {
      "needs_background": "light"
     },
     "output_type": "display_data"
    }
   ],
   "source": [
    "# Set figure size.\n",
    "plt.figure(figsize=(12,8))\n",
    "\n",
    "plot_losses(history_sq, 'Sequential', 'coral', 'orange')\n",
    "plot_losses(history_cnn, 'CNN', 'skyblue', 'navy')\n",
    "plot_losses(history_cnn2, 'CNN Reg', 'pink', 'red')\n",
    "\n",
    "\n",
    "# Set title\n",
    "plt.title('Training and Testing Loss by Epoch', fontsize=20)\n",
    "plt.xlabel('Epoch', fontsize=16)\n",
    "plt.ylabel('Categorical Crossentropy', fontsize=16)\n",
    "plt.xticks([0, 1, 2, 3, 4, 5, 6, 7], [1, 2, 3, 4, 5, 6, 7, 8])\n",
    "\n",
    "plt.legend(fontsize=14);"
   ]
  },
  {
   "cell_type": "markdown",
   "metadata": {},
   "source": [
    "# Evaluate"
   ]
  },
  {
   "cell_type": "code",
   "execution_count": 22,
   "metadata": {
    "scrolled": true
   },
   "outputs": [
    {
     "data": {
      "text/html": [
       "<div>\n",
       "<style scoped>\n",
       "    .dataframe tbody tr th:only-of-type {\n",
       "        vertical-align: middle;\n",
       "    }\n",
       "\n",
       "    .dataframe tbody tr th {\n",
       "        vertical-align: top;\n",
       "    }\n",
       "\n",
       "    .dataframe thead th {\n",
       "        text-align: right;\n",
       "    }\n",
       "</style>\n",
       "<table border=\"1\" class=\"dataframe\">\n",
       "  <thead>\n",
       "    <tr style=\"text-align: right;\">\n",
       "      <th></th>\n",
       "      <th>pixel0</th>\n",
       "      <th>pixel1</th>\n",
       "      <th>pixel2</th>\n",
       "      <th>pixel3</th>\n",
       "      <th>pixel4</th>\n",
       "      <th>pixel5</th>\n",
       "      <th>pixel6</th>\n",
       "      <th>pixel7</th>\n",
       "      <th>pixel8</th>\n",
       "      <th>pixel9</th>\n",
       "      <th>...</th>\n",
       "      <th>pixel774</th>\n",
       "      <th>pixel775</th>\n",
       "      <th>pixel776</th>\n",
       "      <th>pixel777</th>\n",
       "      <th>pixel778</th>\n",
       "      <th>pixel779</th>\n",
       "      <th>pixel780</th>\n",
       "      <th>pixel781</th>\n",
       "      <th>pixel782</th>\n",
       "      <th>pixel783</th>\n",
       "    </tr>\n",
       "  </thead>\n",
       "  <tbody>\n",
       "    <tr>\n",
       "      <th>0</th>\n",
       "      <td>0</td>\n",
       "      <td>0</td>\n",
       "      <td>0</td>\n",
       "      <td>0</td>\n",
       "      <td>0</td>\n",
       "      <td>0</td>\n",
       "      <td>0</td>\n",
       "      <td>0</td>\n",
       "      <td>0</td>\n",
       "      <td>0</td>\n",
       "      <td>...</td>\n",
       "      <td>0</td>\n",
       "      <td>0</td>\n",
       "      <td>0</td>\n",
       "      <td>0</td>\n",
       "      <td>0</td>\n",
       "      <td>0</td>\n",
       "      <td>0</td>\n",
       "      <td>0</td>\n",
       "      <td>0</td>\n",
       "      <td>0</td>\n",
       "    </tr>\n",
       "    <tr>\n",
       "      <th>1</th>\n",
       "      <td>0</td>\n",
       "      <td>0</td>\n",
       "      <td>0</td>\n",
       "      <td>0</td>\n",
       "      <td>0</td>\n",
       "      <td>0</td>\n",
       "      <td>0</td>\n",
       "      <td>0</td>\n",
       "      <td>0</td>\n",
       "      <td>0</td>\n",
       "      <td>...</td>\n",
       "      <td>0</td>\n",
       "      <td>0</td>\n",
       "      <td>0</td>\n",
       "      <td>0</td>\n",
       "      <td>0</td>\n",
       "      <td>0</td>\n",
       "      <td>0</td>\n",
       "      <td>0</td>\n",
       "      <td>0</td>\n",
       "      <td>0</td>\n",
       "    </tr>\n",
       "    <tr>\n",
       "      <th>2</th>\n",
       "      <td>0</td>\n",
       "      <td>0</td>\n",
       "      <td>0</td>\n",
       "      <td>0</td>\n",
       "      <td>0</td>\n",
       "      <td>0</td>\n",
       "      <td>0</td>\n",
       "      <td>0</td>\n",
       "      <td>0</td>\n",
       "      <td>0</td>\n",
       "      <td>...</td>\n",
       "      <td>0</td>\n",
       "      <td>0</td>\n",
       "      <td>0</td>\n",
       "      <td>0</td>\n",
       "      <td>0</td>\n",
       "      <td>0</td>\n",
       "      <td>0</td>\n",
       "      <td>0</td>\n",
       "      <td>0</td>\n",
       "      <td>0</td>\n",
       "    </tr>\n",
       "    <tr>\n",
       "      <th>3</th>\n",
       "      <td>0</td>\n",
       "      <td>0</td>\n",
       "      <td>0</td>\n",
       "      <td>0</td>\n",
       "      <td>0</td>\n",
       "      <td>0</td>\n",
       "      <td>0</td>\n",
       "      <td>0</td>\n",
       "      <td>0</td>\n",
       "      <td>0</td>\n",
       "      <td>...</td>\n",
       "      <td>0</td>\n",
       "      <td>0</td>\n",
       "      <td>0</td>\n",
       "      <td>0</td>\n",
       "      <td>0</td>\n",
       "      <td>0</td>\n",
       "      <td>0</td>\n",
       "      <td>0</td>\n",
       "      <td>0</td>\n",
       "      <td>0</td>\n",
       "    </tr>\n",
       "    <tr>\n",
       "      <th>4</th>\n",
       "      <td>0</td>\n",
       "      <td>0</td>\n",
       "      <td>0</td>\n",
       "      <td>0</td>\n",
       "      <td>0</td>\n",
       "      <td>0</td>\n",
       "      <td>0</td>\n",
       "      <td>0</td>\n",
       "      <td>0</td>\n",
       "      <td>0</td>\n",
       "      <td>...</td>\n",
       "      <td>0</td>\n",
       "      <td>0</td>\n",
       "      <td>0</td>\n",
       "      <td>0</td>\n",
       "      <td>0</td>\n",
       "      <td>0</td>\n",
       "      <td>0</td>\n",
       "      <td>0</td>\n",
       "      <td>0</td>\n",
       "      <td>0</td>\n",
       "    </tr>\n",
       "  </tbody>\n",
       "</table>\n",
       "<p>5 rows × 784 columns</p>\n",
       "</div>"
      ],
      "text/plain": [
       "   pixel0  pixel1  pixel2  pixel3  pixel4  pixel5  pixel6  pixel7  pixel8  \\\n",
       "0       0       0       0       0       0       0       0       0       0   \n",
       "1       0       0       0       0       0       0       0       0       0   \n",
       "2       0       0       0       0       0       0       0       0       0   \n",
       "3       0       0       0       0       0       0       0       0       0   \n",
       "4       0       0       0       0       0       0       0       0       0   \n",
       "\n",
       "   pixel9  ...  pixel774  pixel775  pixel776  pixel777  pixel778  pixel779  \\\n",
       "0       0  ...         0         0         0         0         0         0   \n",
       "1       0  ...         0         0         0         0         0         0   \n",
       "2       0  ...         0         0         0         0         0         0   \n",
       "3       0  ...         0         0         0         0         0         0   \n",
       "4       0  ...         0         0         0         0         0         0   \n",
       "\n",
       "   pixel780  pixel781  pixel782  pixel783  \n",
       "0         0         0         0         0  \n",
       "1         0         0         0         0  \n",
       "2         0         0         0         0  \n",
       "3         0         0         0         0  \n",
       "4         0         0         0         0  \n",
       "\n",
       "[5 rows x 784 columns]"
      ]
     },
     "execution_count": 22,
     "metadata": {},
     "output_type": "execute_result"
    }
   ],
   "source": [
    "# read in test dataset\n",
    "kaggle_test = pd.read_csv('test.csv')\n",
    "kaggle_test.head()"
   ]
  },
  {
   "cell_type": "code",
   "execution_count": 23,
   "metadata": {},
   "outputs": [],
   "source": [
    "# Apply the same preprocessing steps\n",
    "kaggle_test = kaggle_test.astype('float32')\n",
    "\n",
    "# Scaling\n",
    "kaggle_test /= 255\n",
    "\n",
    "# Change to a numpy array\n",
    "kaggle_test = kaggle_test.to_numpy()\n",
    "\n",
    "# Reshape\n",
    "kaggle_test = kaggle_test.reshape(kaggle_test.shape[0], 28, 28, 1)"
   ]
  },
  {
   "cell_type": "code",
   "execution_count": 27,
   "metadata": {},
   "outputs": [
    {
     "data": {
      "text/plain": [
       "(28000, 28, 28, 1)"
      ]
     },
     "execution_count": 27,
     "metadata": {},
     "output_type": "execute_result"
    }
   ],
   "source": [
    "kaggle_test.shape"
   ]
  },
  {
   "cell_type": "code",
   "execution_count": 28,
   "metadata": {},
   "outputs": [
    {
     "data": {
      "text/plain": [
       "array([[3.41787199e-05, 3.10852499e-09, 9.99902368e-01, ...,\n",
       "        1.35103349e-07, 5.06666083e-06, 2.57298254e-08],\n",
       "       [9.99755919e-01, 2.59309942e-08, 1.55727612e-05, ...,\n",
       "        3.23704853e-07, 1.22012170e-06, 5.02108378e-07],\n",
       "       [1.14291091e-03, 6.70854643e-04, 4.75515192e-03, ...,\n",
       "        4.78947256e-03, 9.93301496e-02, 8.21626008e-01],\n",
       "       ...,\n",
       "       [7.12014923e-07, 1.63607217e-06, 1.90409264e-05, ...,\n",
       "        4.92365734e-06, 1.98559021e-04, 1.57070062e-05],\n",
       "       [1.01627602e-05, 3.73218292e-08, 6.76769432e-08, ...,\n",
       "        1.91050422e-04, 7.79686379e-05, 9.78987396e-01],\n",
       "       [1.73375520e-05, 1.35948824e-07, 9.99911547e-01, ...,\n",
       "        1.21504975e-08, 2.41670223e-05, 3.39635392e-07]], dtype=float32)"
      ]
     },
     "execution_count": 28,
     "metadata": {},
     "output_type": "execute_result"
    }
   ],
   "source": [
    "model_sq.predict(kaggle_test)"
   ]
  },
  {
   "cell_type": "code",
   "execution_count": 44,
   "metadata": {},
   "outputs": [
    {
     "data": {
      "text/plain": [
       "array([[1.3876638e-08, 3.6718037e-10, 9.9999273e-01, ..., 2.5367443e-08,\n",
       "        2.4895684e-08, 5.9174943e-10],\n",
       "       [9.9701166e-01, 1.4200369e-08, 5.4283859e-04, ..., 2.5912477e-06,\n",
       "        3.8177444e-05, 2.8767638e-04],\n",
       "       [2.1755146e-05, 9.0521964e-05, 4.8160079e-04, ..., 6.8793386e-05,\n",
       "        1.2266451e-02, 9.8440844e-01],\n",
       "       ...,\n",
       "       [8.4050384e-09, 2.0083372e-07, 1.9505567e-06, ..., 3.1667651e-07,\n",
       "        1.5601639e-06, 3.1139396e-07],\n",
       "       [1.9947656e-05, 1.5137462e-07, 1.6691639e-07, ..., 1.5902534e-03,\n",
       "        1.0692189e-05, 9.9013674e-01],\n",
       "       [1.1408767e-07, 5.0844289e-09, 9.9999511e-01, ..., 2.2033184e-09,\n",
       "        4.6032395e-07, 1.0477318e-08]], dtype=float32)"
      ]
     },
     "execution_count": 44,
     "metadata": {},
     "output_type": "execute_result"
    }
   ],
   "source": [
    "cnn_model.predict(kaggle_test)"
   ]
  }
 ],
 "metadata": {
  "kernelspec": {
   "display_name": "Python 3",
   "language": "python",
   "name": "python3"
  },
  "language_info": {
   "codemirror_mode": {
    "name": "ipython",
    "version": 3
   },
   "file_extension": ".py",
   "mimetype": "text/x-python",
   "name": "python",
   "nbconvert_exporter": "python",
   "pygments_lexer": "ipython3",
   "version": "3.7.6"
  },
  "toc": {
   "base_numbering": 1,
   "nav_menu": {},
   "number_sections": true,
   "sideBar": true,
   "skip_h1_title": false,
   "title_cell": "Table of Contents",
   "title_sidebar": "Contents",
   "toc_cell": false,
   "toc_position": {
    "height": "calc(100% - 180px)",
    "left": "10px",
    "top": "150px",
    "width": "178.991px"
   },
   "toc_section_display": true,
   "toc_window_display": true
  }
 },
 "nbformat": 4,
 "nbformat_minor": 2
}
